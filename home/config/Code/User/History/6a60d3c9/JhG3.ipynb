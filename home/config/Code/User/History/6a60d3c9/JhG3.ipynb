{
 "cells": [
  {
   "cell_type": "code",
   "execution_count": 13,
   "metadata": {
    "vscode": {
     "languageId": "plaintext"
    }
   },
   "outputs": [
    {
     "name": "stdout",
     "output_type": "stream",
     "text": [
      "/home/griffin/git/griffinht.com/notebooks/tailscale_all\n"
     ]
    }
   ],
   "source": [
    "%cd tailscale_all"
   ]
  },
  {
   "cell_type": "code",
   "execution_count": 31,
   "metadata": {
    "vscode": {
     "languageId": "plaintext"
    }
   },
   "outputs": [
    {
     "name": "stdout",
     "output_type": "stream",
     "text": [
      "Overwriting pod.yaml\n"
     ]
    }
   ],
   "source": [
    "%%writefile pod.yaml\n",
    "apiVersion: v1\n",
    "kind: PersistentVolumeClaim\n",
    "metadata:\n",
    "  name: tailscale-state\n",
    "spec:\n",
    "  accessModes:\n",
    "    # read/write from a single node\n",
    "    # https://kubernetes.io/docs/concepts/storage/persistent-volumes/#access-modes\n",
    "    - ReadWriteOnce\n",
    "  # todo idk where the docs are for this - i just guessed\n",
    "  resources:\n",
    "    requests:\n",
    "      storage: 10Mi\n",
    "---\n",
    "apiVersion: v1\n",
    "kind: Pod\n",
    "metadata:\n",
    "    name: caddy\n",
    "spec:\n",
    "    containers:\n",
    "      - name: iperf3\n",
    "        image: networkstatic/iperf3\n",
    "        args:\n",
    "          - --server\n",
    "      - name: caddy\n",
    "        image: caddy/caddy\n",
    "      - name: tailscale\n",
    "        image: ghcr.io/tailscale/tailscale:latest\n",
    "        env:\n",
    "          # disable Kubernetes secrets and use OAuth login instead\n",
    "          - name: TS_KUBE_SECRET\n",
    "            value: \"\"\n",
    "          - name: TS_STATE_DIR\n",
    "            value: \"/var/lib/tailscale\"\n",
    "        volumeMounts:\n",
    "          - name: tailscale-state\n",
    "            mountPath: \"/var/lib/tailscale\"\n",
    "    volumes:\n",
    "      - name: tailscale-state\n",
    "        persistentVolumeClaim:\n",
    "          claimName: tailscale-state\n"
   ]
  },
  {
   "cell_type": "code",
   "execution_count": 34,
   "metadata": {
    "vscode": {
     "languageId": "plaintext"
    }
   },
   "outputs": [
    {
     "name": "stdout",
     "output_type": "stream",
     "text": [
      "persistentvolumeclaim/tailscale-state created\n",
      "pod/caddy created\n"
     ]
    }
   ],
   "source": [
    "%%sh\n",
    "kubectl apply -f pod.yaml"
   ]
  },
  {
   "cell_type": "markdown",
   "metadata": {
    "vscode": {
     "languageId": "plaintext"
    }
   },
   "source": [
    "Tip: If your pod is taking a while to come up, check out `kubectl describe`"
   ]
  },
  {
   "cell_type": "code",
   "execution_count": 24,
   "metadata": {
    "vscode": {
     "languageId": "plaintext"
    }
   },
   "outputs": [
    {
     "name": "stdout",
     "output_type": "stream",
     "text": [
      "Name:             caddy\n",
      "Namespace:        default\n",
      "Priority:         0\n",
      "Service Account:  default\n",
      "Node:             gk3-my-cluster-pool-3-31f1207c-nfrt/10.142.0.7\n",
      "Start Time:       Sun, 23 Jun 2024 18:25:21 -0400\n",
      "Labels:           <none>\n",
      "Annotations:      autopilot.gke.io/resource-adjustment:\n",
      "                    {\"input\":{\"containers\":[{\"name\":\"iperf3\"},{\"name\":\"caddy\"},{\"name\":\"tailscale\"}]},\"output\":{\"containers\":[{\"limits\":{\"cpu\":\"500m\",\"ephemer...\n",
      "                  autopilot.gke.io/warden-version: 2.9.37\n",
      "Status:           Running\n",
      "SeccompProfile:   RuntimeDefault\n",
      "IP:               10.15.0.133\n",
      "IPs:\n",
      "  IP:  10.15.0.133\n",
      "Containers:\n",
      "  iperf3:\n",
      "    Container ID:   containerd://b2bc732be4b3a938eea50dae2bb9e5dbdf8e14099c6fcf5d9a8c94dcaa501dd6\n",
      "    Image:          networkstatic/iperf3\n",
      "    Image ID:       docker.io/networkstatic/iperf3@sha256:148ec0389185caa366802a996ccded1bcde221a257f3eb44f291a7ac765f4ed4\n",
      "    Port:           <none>\n",
      "    Host Port:      <none>\n",
      "    State:          Waiting\n",
      "      Reason:       CrashLoopBackOff\n",
      "    Last State:     Terminated\n",
      "      Reason:       Error\n",
      "      Exit Code:    1\n",
      "      Started:      Sun, 23 Jun 2024 18:26:34 -0400\n",
      "      Finished:     Sun, 23 Jun 2024 18:26:34 -0400\n",
      "    Ready:          False\n",
      "    Restart Count:  3\n",
      "    Limits:\n",
      "      cpu:                500m\n",
      "      ephemeral-storage:  1Gi\n",
      "      memory:             2Gi\n",
      "    Requests:\n",
      "      cpu:                500m\n",
      "      ephemeral-storage:  1Gi\n",
      "      memory:             2Gi\n",
      "    Environment:          <none>\n",
      "    Mounts:\n",
      "      /var/run/secrets/kubernetes.io/serviceaccount from kube-api-access-hmdtl (ro)\n",
      "  caddy:\n",
      "    Container ID:   containerd://5f57020a636e26b015f2254443e358615f84b59b2cd4cb96b68dd149306ac94a\n",
      "    Image:          caddy/caddy\n",
      "    Image ID:       docker.io/caddy/caddy@sha256:93bce93e51020d5d1c8ca4ab6b0b73af0045f0e97c272784497e02b4ad30ad20\n",
      "    Port:           <none>\n",
      "    Host Port:      <none>\n",
      "    State:          Running\n",
      "      Started:      Sun, 23 Jun 2024 18:25:43 -0400\n",
      "    Ready:          True\n",
      "    Restart Count:  0\n",
      "    Limits:\n",
      "      cpu:                500m\n",
      "      ephemeral-storage:  1Gi\n",
      "      memory:             2Gi\n",
      "    Requests:\n",
      "      cpu:                500m\n",
      "      ephemeral-storage:  1Gi\n",
      "      memory:             2Gi\n",
      "    Environment:          <none>\n",
      "    Mounts:\n",
      "      /var/run/secrets/kubernetes.io/serviceaccount from kube-api-access-hmdtl (ro)\n",
      "  tailscale:\n",
      "    Container ID:   containerd://e066c4616da630a2d3051c757ad722d2b7257c4d7264e13e7a94c771093994c8\n",
      "    Image:          ghcr.io/tailscale/tailscale:latest\n",
      "    Image ID:       ghcr.io/tailscale/tailscale@sha256:a0d1a9ed2abfacf905c0e3423aea00181064162e548f875f422a03924b9cc5c4\n",
      "    Port:           <none>\n",
      "    Host Port:      <none>\n",
      "    State:          Running\n",
      "      Started:      Sun, 23 Jun 2024 18:25:45 -0400\n",
      "    Ready:          True\n",
      "    Restart Count:  0\n",
      "    Limits:\n",
      "      cpu:                500m\n",
      "      ephemeral-storage:  1Gi\n",
      "      memory:             2Gi\n",
      "    Requests:\n",
      "      cpu:                500m\n",
      "      ephemeral-storage:  1Gi\n",
      "      memory:             2Gi\n",
      "    Environment:\n",
      "      TS_KUBE_SECRET:  \n",
      "      TS_STATE_DIR:    /var/lib/tailscale\n",
      "    Mounts:\n",
      "      /var/lib/tailscale from tailscale-state (rw)\n",
      "      /var/run/secrets/kubernetes.io/serviceaccount from kube-api-access-hmdtl (ro)\n",
      "Conditions:\n",
      "  Type                        Status\n",
      "  PodReadyToStartContainers   True \n",
      "  Initialized                 True \n",
      "  Ready                       False \n",
      "  ContainersReady             False \n",
      "  PodScheduled                True \n",
      "Volumes:\n",
      "  tailscale-state:\n",
      "    Type:       PersistentVolumeClaim (a reference to a PersistentVolumeClaim in the same namespace)\n",
      "    ClaimName:  tailscale-state\n",
      "    ReadOnly:   false\n",
      "  kube-api-access-hmdtl:\n",
      "    Type:                    Projected (a volume that contains injected data from multiple sources)\n",
      "    TokenExpirationSeconds:  3607\n",
      "    ConfigMapName:           kube-root-ca.crt\n",
      "    ConfigMapOptional:       <nil>\n",
      "    DownwardAPI:             true\n",
      "QoS Class:                   Guaranteed\n",
      "Node-Selectors:              <none>\n",
      "Tolerations:                 kubernetes.io/arch=amd64:NoSchedule\n",
      "                             node.kubernetes.io/not-ready:NoExecute op=Exists for 300s\n",
      "                             node.kubernetes.io/unreachable:NoExecute op=Exists for 300s\n",
      "Events:\n",
      "  Type     Reason                  Age                From                                   Message\n",
      "  ----     ------                  ----               ----                                   -------\n",
      "  Warning  FailedScheduling        2m34s              gke.io/optimize-utilization-scheduler  0/2 nodes are available: 2 Insufficient cpu, 2 Insufficient memory. preemption: 0/2 nodes are available: 2 No preemption victims found for incoming pod.\n",
      "  Normal   TriggeredScaleUp        2m29s              cluster-autoscaler                     pod triggered scale-up: [{https://www.googleapis.com/compute/v1/projects/griffinht-cloudlab/zones/us-east1-d/instanceGroups/gk3-my-cluster-pool-3-31f1207c-grp 0->1 (max: 1000)}]\n",
      "  Normal   Scheduled               85s                gke.io/optimize-utilization-scheduler  Successfully assigned default/caddy to gk3-my-cluster-pool-3-31f1207c-nfrt\n",
      "  Normal   SuccessfulAttachVolume  80s                attachdetach-controller                AttachVolume.Attach succeeded for volume \"pvc-9e79f40c-c724-473b-afa3-87d60242de69\"\n",
      "  Normal   Pulling                 69s                kubelet                                Pulling image \"caddy/caddy\"\n",
      "  Normal   Pulled                  69s                kubelet                                Successfully pulled image \"networkstatic/iperf3\" in 7.322s (7.322s including waiting)\n",
      "  Normal   Pulling                 63s                kubelet                                Pulling image \"ghcr.io/tailscale/tailscale:latest\"\n",
      "  Normal   Pulled                  63s                kubelet                                Successfully pulled image \"caddy/caddy\" in 5.456s (5.456s including waiting)\n",
      "  Normal   Created                 63s                kubelet                                Created container caddy\n",
      "  Normal   Started                 63s                kubelet                                Started container caddy\n",
      "  Normal   Pulled                  61s                kubelet                                Successfully pulled image \"ghcr.io/tailscale/tailscale:latest\" in 1.87s (1.87s including waiting)\n",
      "  Normal   Created                 61s                kubelet                                Created container tailscale\n",
      "  Normal   Started                 61s                kubelet                                Started container tailscale\n",
      "  Normal   Pulled                  60s                kubelet                                Successfully pulled image \"networkstatic/iperf3\" in 413ms (413ms including waiting)\n",
      "  Normal   Created                 42s (x3 over 69s)  kubelet                                Created container iperf3\n",
      "  Normal   Pulled                  42s                kubelet                                Successfully pulled image \"networkstatic/iperf3\" in 442ms (442ms including waiting)\n",
      "  Normal   Started                 41s (x3 over 69s)  kubelet                                Started container iperf3\n",
      "  Warning  BackOff                 28s (x4 over 58s)  kubelet                                Back-off restarting failed container iperf3 in pod caddy_default(55140569-cf19-4f6f-9b8a-b751d25a1a4c)\n",
      "  Normal   Pulling                 13s (x4 over 76s)  kubelet                                Pulling image \"networkstatic/iperf3\"\n"
     ]
    }
   ],
   "source": [
    "%%sh\n",
    "kubectl describe pod caddy"
   ]
  },
  {
   "cell_type": "code",
   "execution_count": 28,
   "metadata": {
    "vscode": {
     "languageId": "plaintext"
    }
   },
   "outputs": [
    {
     "name": "stdout",
     "output_type": "stream",
     "text": [
      "Connecting to host caddy, port 5201\n",
      "[  5] local 100.99.123.66 port 39614 connected to 100.123.205.111 port 5201\n",
      "[ ID] Interval           Transfer     Bitrate         Retr  Cwnd\n",
      "[  5]   0.00-1.00   sec  11.8 MBytes  98.5 Mbits/sec  1608    186 KBytes       \n",
      "[  5]   1.00-2.00   sec  8.12 MBytes  68.2 Mbits/sec    0    211 KBytes       \n",
      "[  5]   2.00-3.00   sec  8.25 MBytes  69.2 Mbits/sec    0    239 KBytes       \n",
      "[  5]   3.00-4.00   sec  9.62 MBytes  80.7 Mbits/sec    5    199 KBytes       \n",
      "[  5]   4.00-5.00   sec  6.88 MBytes  57.7 Mbits/sec   11    159 KBytes       \n",
      "[  5]   5.00-6.00   sec  8.25 MBytes  69.2 Mbits/sec    0    187 KBytes       \n",
      "[  5]   6.00-7.00   sec  8.12 MBytes  68.2 Mbits/sec    0    216 KBytes       \n",
      "[  5]   7.00-8.00   sec  9.62 MBytes  80.7 Mbits/sec   25    174 KBytes       \n",
      "[  5]   8.00-9.00   sec  8.12 MBytes  68.2 Mbits/sec    0    204 KBytes       \n",
      "[  5]   9.00-10.00  sec  8.25 MBytes  69.2 Mbits/sec    0    227 KBytes       \n",
      "- - - - - - - - - - - - - - - - - - - - - - - - -\n",
      "[ ID] Interval           Transfer     Bitrate         Retr\n",
      "[  5]   0.00-10.00  sec  87.0 MBytes  73.0 Mbits/sec  1649             sender\n",
      "[  5]   0.00-10.03  sec  84.4 MBytes  70.6 Mbits/sec                  receiver\n",
      "\n",
      "iperf Done.\n"
     ]
    }
   ],
   "source": [
    "%%sh\n",
    "iperf3 -c caddy"
   ]
  },
  {
   "cell_type": "markdown",
   "metadata": {
    "vscode": {
     "languageId": "plaintext"
    }
   },
   "source": [
    "It works! We added `iperf3` to our pod, and connected to it via Tailscale.\n",
    "\n",
    "I want to separate the two."
   ]
  },
  {
   "cell_type": "code",
   "execution_count": 10,
   "metadata": {
    "vscode": {
     "languageId": "plaintext"
    }
   },
   "outputs": [
    {
     "name": "stdout",
     "output_type": "stream",
     "text": [
      "Overwriting pod.yaml\n"
     ]
    }
   ],
   "source": [
    "%%writefile pod.yaml\n",
    "apiVersion: v1\n",
    "kind: PersistentVolumeClaim\n",
    "metadata:\n",
    "  name: tailscale-state\n",
    "spec:\n",
    "  accessModes:\n",
    "    # read/write from a single node\n",
    "    # https://kubernetes.io/docs/concepts/storage/persistent-volumes/#access-modes\n",
    "    - ReadWriteOnce\n",
    "  # todo idk where the docs are for this - i just guessed\n",
    "  resources:\n",
    "    requests:\n",
    "      storage: 10Mi\n",
    "---\n",
    "apiVersion: v1\n",
    "kind: Pod\n",
    "metadata:\n",
    "    name: iperf3\n",
    "spec:\n",
    "    containers:\n",
    "      - name: iperf3\n",
    "        image: networkstatic/iperf3\n",
    "        args:\n",
    "          - --server\n",
    "---\n",
    "apiVersion: v1\n",
    "kind: Pod\n",
    "metadata:\n",
    "    name: caddy\n",
    "spec:\n",
    "    containers:\n",
    "      - name: caddy\n",
    "        image: caddy/caddy\n",
    "---\n",
    "apiVersion: v1\n",
    "kind: Pod\n",
    "metadata:\n",
    "    name: tailscale\n",
    "spec:\n",
    "    containers:\n",
    "      - name: tailscale\n",
    "        image: ghcr.io/tailscale/tailscale:latest\n",
    "        env:\n",
    "          # disable Kubernetes secrets and use OAuth login instead\n",
    "          - name: TS_KUBE_SECRET\n",
    "            value: \"\"\n",
    "          - name: TS_STATE_DIR\n",
    "            value: \"/var/lib/tailscale\"\n",
    "        volumeMounts:\n",
    "          - name: tailscale-state\n",
    "            mountPath: \"/var/lib/tailscale\"\n",
    "    volumes:\n",
    "      - name: tailscale-state\n",
    "        persistentVolumeClaim:\n",
    "          claimName: tailscale-state\n"
   ]
  },
  {
   "cell_type": "code",
   "execution_count": 11,
   "metadata": {
    "vscode": {
     "languageId": "plaintext"
    }
   },
   "outputs": [
    {
     "name": "stdout",
     "output_type": "stream",
     "text": [
      "persistentvolumeclaim/tailscale-state unchanged\n",
      "pod/iperf3 unchanged\n",
      "pod/caddy unchanged\n",
      "pod/tailscale configured\n"
     ]
    }
   ],
   "source": [
    "! kubectl apply -f pod.yaml"
   ]
  },
  {
   "cell_type": "code",
   "execution_count": 8,
   "metadata": {
    "vscode": {
     "languageId": "plaintext"
    }
   },
   "outputs": [
    {
     "name": "stdout",
     "output_type": "stream",
     "text": [
      "100.113.140.69  tailscale            griffinht@   linux   -\n"
     ]
    }
   ],
   "source": [
    "! tailscale status | grep tailscale"
   ]
  },
  {
   "cell_type": "markdown",
   "metadata": {
    "vscode": {
     "languageId": "plaintext"
    }
   },
   "source": [
    "Great! Now Tailscale shows up in its own pod as the \"tailscale\" hostname. We could also change the hostname if we wanted to, but I'll leave it like this for now."
   ]
  },
  {
   "cell_type": "code",
   "execution_count": 9,
   "metadata": {
    "vscode": {
     "languageId": "plaintext"
    }
   },
   "outputs": [
    {
     "name": "stdout",
     "output_type": "stream",
     "text": [
      "curl: (7) Failed to connect to tailscale port 80 after 95 ms: Couldn't connect to server\n"
     ]
    }
   ],
   "source": [
    "! curl tailscale:80"
   ]
  },
  {
   "cell_type": "code",
   "execution_count": null,
   "metadata": {
    "vscode": {
     "languageId": "plaintext"
    }
   },
   "outputs": [],
   "source": [
    "todo https://github.com/asciinema/discussions/issues/40"
   ]
  },
  {
   "cell_type": "code",
   "execution_count": 16,
   "metadata": {
    "vscode": {
     "languageId": "plaintext"
    }
   },
   "outputs": [
    {
     "data": {
      "text/html": [
       "<script src=\"https://asciinema.org/a/1wkyfecyj2qa4t9gm4bank61y.js\" id=\"asciicast-1wkyfecyj2qa4t9gm4bank61y\" async></script>"
      ],
      "text/plain": [
       "<IPython.core.display.HTML object>"
      ]
     },
     "execution_count": 16,
     "metadata": {},
     "output_type": "execute_result"
    }
   ],
   "source": [
    "\n",
    "from IPython.display import HTML\n",
    "HTML(\"\"\"<script src=\"https://asciinema.org/a/1wkyfecyj2qa4t9gm4bank61y.js\" id=\"asciicast-1wkyfecyj2qa4t9gm4bank61y\" async></script>\"\"\")"
   ]
  },
  {
   "cell_type": "code",
   "execution_count": 19,
   "metadata": {
    "vscode": {
     "languageId": "plaintext"
    }
   },
   "outputs": [
    {
     "data": {
      "text/html": [
       "<script src=\"https://asciinema.org/a/1wkyfecyj2qa4t9gm4bank61y.js\" id=\"asciicast-1wkyfecyj2qa4t9gm4bank61y\" async></script>\n"
      ],
      "text/plain": [
       "<IPython.core.display.HTML object>"
      ]
     },
     "metadata": {},
     "output_type": "display_data"
    }
   ],
   "source": [
    "%%html\n",
    "<script src=\"https://asciinema.org/a/1wkyfecyj2qa4t9gm4bank61y.js\" id=\"asciicast-1wkyfecyj2qa4t9gm4bank61y\" async></script>"
   ]
  },
  {
   "cell_type": "code",
   "execution_count": 14,
   "metadata": {
    "vscode": {
     "languageId": "plaintext"
    }
   },
   "outputs": [
    {
     "name": "stdout",
     "output_type": "stream",
     "text": [
      "\u001b[32m◠◡◠◡◠◡◠◡◠◡◠◡◠◡◠◡◠◡◠◡◠◡◠◡◠◡◠◡◠◡◠◡◠◡◠◡◠◡◠◡◠◡◠◡◠◡◠◡◠◡◠◡◠◡◠◡◠◡◠◡◠◡◠◡◠◡◠◡◠◡◠◡◠◡◠◡◠◡◠◡◠◡◠◡◠◡◠◡◠◡◠◡◠◡◠◡◠◡◠◡◠◡◠◡◠◡◠◡◠◡◠◡◠◡◠◡◠◡◠◡◠◡◠◡◠◡◠◡◠◡◠◡◠◡◠◡◠◡◠◡◠◡◠◡◠◡◠◡◠◡◠◡◠◡◠◡◠◡◠◡◠◡◠◡◠◡◠◡◠◡◠◡◠◡◠◡◠◡◠◡◠◡◠◡◠◡◠◡◠◡◠◡◠◡◠◡◠◡◠◡◠◡◠◡◠◡◠◡◠◡◠◡◠◡◠◡◠◡◠◡◠◡◠◡◠◡◠◡◠◡◠◡◠◡◠◡◠◡◠◡\u001b[K\n",
      "\u001b[7C0C\u001b[32m 07:51:21 m\u001b[30m\u001b(B\u001b[m\u001b[91m9\u001b[38;2;85;85;85ms\u001b[30m\u001b(B\u001b[m\u001b[91ms\u001b[30m\u001b(B\u001b[m\n",
      "\u001b[?1000l\u001b[?1002l\u001b[?1003l\u001b[?1006l\u001b[?2004l\u001b[?1049h\u001b[22;0;0t\u001b[?1h\u001b=\u001b[?25l\u001b[H\u001b[2J\u001b[?25l\u001b[1;1H\u001b(B\u001b[m\u001b[40m                                                                                                                                                                                                                                                \u001b[2;1H                                                                                                                                                                                                                                                \u001b[3;1H                                                                                                \u001b(B\u001b[m\u001b[38:5:214;40m\u001b[1m ____  __.________      _________ .____    .___ \u001b(B\u001b[m\u001b[40m                                                                                                \u001b[4;1H                                                                                                \u001b(B\u001b[m\u001b[38:5:214;40m\u001b[1m|    |/ _/   __   \\_____\\_   ___ \\|    |   |   |\u001b(B\u001b[m\u001b[40m                                                                                                \u001b[5;1H                                                                                                \u001b(B\u001b[m\u001b[38:5:214;40m\u001b[1m|      < \\____    /  ___/    \\  \\/|    |   |   |\u001b(B\u001b[m\u001b[40m                                                                                                \u001b[6;1H                                                                                                \u001b(B\u001b[m\u001b[38:5:214;40m\u001b[1m|    |  \\   /    /\\___ \\\\     \\___|    |___|   |\u001b(B\u001b[m\u001b[40m                                                                                                \u001b[7;1H                                                                                                \u001b(B\u001b[m\u001b[38:5:214;40m\u001b[1m|____|__ \\ /____//____  >\\______  /_______ \\___|\u001b(B\u001b[m\u001b[40m                                                                                                \u001b[8;1H                                                                                                \u001b(B\u001b[m\u001b[38:5:214;40m\u001b[1m        \\/            \\/        \\/        \\/    \u001b(B\u001b[m\u001b[40m                                                                                                \u001b[9;1H                                                                                                                                                                                                                                                \u001b[10;1H                                                                                                                                                                                                                                                \u001b[11;1H                                                                                                                \u001b(B\u001b[m\u001b[38:5:73;40m\u001b[1mRevision \u001b(B\u001b[m\u001b[91;40m\u001b[1mv0.32.5\u001b(B\u001b[m\u001b[40m                                                                                                                \u001b[12;1H                                                                                                                                                                                                                                                \u001b[13;1H                                                                                                                                                                                                                                                \u001b[14;1H                                                                                                                                                                                                                                                \u001b[15;1H                                                                                                                                                                                                                                                \u001b[16;1H                                                                                                                                                                                                                                                \u001b[17;1H                                                                                                                                                                                                                                                \u001b[18;1H                                                                                                                                                                                                                                                \u001b[19;1H                                                                                                                                                                                                                                                \u001b[20;1H                                                                                                                                                                                                                                                \u001b[21;1H                                                                                                                                                                                                                                                \u001b[22;1H                                                                                                                                                                                                                                                \u001b[23;1H                                                                                                                                                                                                                                                \u001b[24;1H                                                                                                                                                                                                                                                \u001b[25;1H                                                                                                                                                                                                                                                \u001b[26;1H                                                                                                                                                                                                                                                \u001b[27;1H                                                                                                                                                                                                                                                \u001b[28;1H                                                                                                                                                                                                                                                \u001b[29;1H                                                                                                                                                                                                                                                \u001b[30;1H                                                                                                                                                                                                                                                \u001b[31;1H                                                                                                                                                                                                                                                \u001b[32;1H                                                                                                                                                                                                                                                \u001b[33;1H                                                                                                                                                                                                                                                \u001b[34;1H                                                                                                                                                                                                                                                \u001b[35;1H                                                                                                                                                                                                                                                \u001b[36;1H                                                                                                                                                                                                                                                \u001b[37;1H                                                                                                                                                                                                                                                \u001b[38;1H                                                                                                                                                                                                                                                \u001b[39;1H                                                                                                                                                                                                                                                \u001b[40;1H                                                                                                                                                                                                                                                \u001b[41;1H                                                                                                                                                                                                                                                \u001b[42;1H                                                                                                                                                                                                                                                \u001b[43;1H                                                                                                                                                                                                                                                \u001b[44;1H                                                                                                                                                                                                                                                \u001b[45;1H                                                                                                                                                                                                                                                \u001b[46;1H                                                                                                                                                                                                                                                \u001b[47;1H                                                                                                                                                                                                                                                \u001b[48;1H                                                                                                                                                                                                                                                \u001b[49;1H                                                                                                                                                                                                                                                \u001b[50;1H                                                                                                                                                                                                                                                \u001b[51;1H                                                                                                                                                                                                                                                \u001b[52;1H                                                                                                                                                                                                                                                \u001b[53;1H                                                                                                                                                                                                                                                \u001b[54;1H                                                                                                                                                                                                                                                \u001b[?25l\u001b[?25l\u001b[?25l\u001b[?25l\u001b[?25l\u001b[?25l\u001b[?25l\u001b[?25l\u001b[?25l\u001b[?25l\u001b[?25l\u001b[?25l\u001b[?25l\u001b[?25l\u001b[?25l\u001b[?25l\u001b[?25l\u001b[?25l\u001b[1;2H\u001b(B\u001b[m\u001b[38:5:214;40mContext:\u001b(B\u001b[m\u001b[38:5:73;40m \u001b(B\u001b[m\u001b[97;40m\u001b[1mkind-kind\u001b[1;51H\u001b(B\u001b[m\u001b[38:5:73;40m \u001b(B\u001b[m\u001b[95;40m\u001b[1m<0> \u001b(B\u001b[m\u001b[97;40m\u001b[2mall \u001b[1;64H\u001b(B\u001b[m\u001b[97;40m \u001b(B\u001b[m\u001b[38:5:73;40m \u001b(B\u001b[m\u001b[38:5:33;40m\u001b[1m<a>       \u001b(B\u001b[m\u001b[97;40m\u001b[2mAttach \u001b[1;87H\u001b(B\u001b[m\u001b[97;40m \u001b(B\u001b[m\u001b[38:5:73;40m \u001b(B\u001b[m\u001b[38:5:33;40m\u001b[1m<ctrl-k>  \u001b(B\u001b[m\u001b[97;40m\u001b[2mKill \u001b[1;113H\u001b(B\u001b[m\u001b[97;40m \u001b(B\u001b[m\u001b[38:5:73;40m \u001b(B\u001b[m\u001b[38:5:33;40m\u001b[1m<o> \u001b(B\u001b[m\u001b[97;40m\u001b[2mShow Node \u001b[1;136H\u001b(B\u001b[m\u001b[97;40m    \u001b[1;215H\u001b(B\u001b[m\u001b[38:5:214;40m\u001b[1m ____  __.________       \u001b[2;2H\u001b(B\u001b[m\u001b[38:5:214;40mCluster:\u001b(B\u001b[m\u001b[38:5:73;40m \u001b(B\u001b[m\u001b[97;40m\u001b[1mkind-kind\u001b[2;51H\u001b(B\u001b[m\u001b[38:5:73;40m \u001b(B\u001b[m\u001b[95;40m\u001b[1m<1> \u001b(B\u001b[m\u001b[97;40m\u001b[2mdefault \u001b(B\u001b[m\u001b[97;40m \u001b(B\u001b[m\u001b[38:5:73;40m \u001b(B\u001b[m\u001b[38:5:33;40m\u001b[1m<ctrl-d>  \u001b(B\u001b[m\u001b[97;40m\u001b[2mDelete \u001b[2;87H\u001b(B\u001b[m\u001b[97;40m \u001b(B\u001b[m\u001b[38:5:73;40m \u001b(B\u001b[m\u001b[38:5:33;40m\u001b[1m<l>       \u001b(B\u001b[m\u001b[97;40m\u001b[2mLogs \u001b[2;113H\u001b(B\u001b[m\u001b[97;40m \u001b(B\u001b[m\u001b[38:5:73;40m \u001b(B\u001b[m\u001b[38:5:33;40m\u001b[1m<f> \u001b(B\u001b[m\u001b[97;40m\u001b[2mShow PortForward \u001b(B\u001b[m\u001b[97;40m    \u001b[2;215H\u001b(B\u001b[m\u001b[38:5:214;40m\u001b[1m|    |/ _/   __   \\______\u001b[3;2H\u001b(B\u001b[m\u001b[38:5:214;40mUser:\u001b[3;10H\u001b(B\u001b[m\u001b[38:5:73;40m \u001b(B\u001b[m\u001b[97;40m\u001b[1mkind-kind\u001b[3;64H\u001b(B\u001b[m\u001b[97;40m \u001b(B\u001b[m\u001b[38:5:73;40m \u001b(B\u001b[m\u001b[38:5:33;40m\u001b[1m<d>       \u001b(B\u001b[m\u001b[97;40m\u001b[2mDescribe \u001b[3;87H\u001b(B\u001b[m\u001b[97;40m \u001b(B\u001b[m\u001b[38:5:73;40m \u001b(B\u001b[m\u001b[38:5:33;40m\u001b[1m<p>       \u001b(B\u001b[m\u001b[97;40m\u001b[2mLogs Previous \u001b(B\u001b[m\u001b[97;40m \u001b(B\u001b[m\u001b[38:5:73;40m \u001b(B\u001b[m\u001b[38:5:33;40m\u001b[1m<t> \u001b(B\u001b[m\u001b[97;40m\u001b[2mTransfer \u001b(B\u001b[m\u001b[40m        \u001b(B\u001b[m\u001b[97;40m    \u001b(B\u001b[m\u001b[40m     \u001b[3;215H\u001b(B\u001b[m\u001b[38:5:214;40m\u001b[1m|      < \\____    /  ___/\u001b[4;2H\u001b(B\u001b[m\u001b[38:5:214;40mK9s Rev:\u001b(B\u001b[m\u001b[38:5:73;40m \u001b(B\u001b[m\u001b[97;40m\u001b[1mv0.32.5\u001b[4;64H\u001b(B\u001b[m\u001b[97;40m \u001b(B\u001b[m\u001b[38:5:73;40m \u001b(B\u001b[m\u001b[38:5:33;40m\u001b[1m<e>       \u001b(B\u001b[m\u001b[97;40m\u001b[2mEdit \u001b[4;87H\u001b(B\u001b[m\u001b[97;40m \u001b(B\u001b[m\u001b[38:5:73;40m \u001b(B\u001b[m\u001b[38:5:33;40m\u001b[1m<shift-f> \u001b(B\u001b[m\u001b[97;40m\u001b[2mPort-Forward \u001b(B\u001b[m\u001b[40m \u001b(B\u001b[m\u001b[97;40m \u001b(B\u001b[m\u001b[38:5:73;40m \u001b(B\u001b[m\u001b[38:5:33;40m\u001b[1m<y> \u001b(B\u001b[m\u001b[97;40m\u001b[2mYAML \u001b(B\u001b[m\u001b[40m            \u001b(B\u001b[m\u001b[97;40m    \u001b(B\u001b[m\u001b[40m     \u001b[4;215H\u001b(B\u001b[m\u001b[38:5:214;40m\u001b[1m|    |  \\   /    /\\___ \\ \u001b[5;2H\u001b(B\u001b[m\u001b[38:5:214;40mK8s Rev:\u001b(B\u001b[m\u001b[38:5:73;40m \u001b(B\u001b[m\u001b[97;40m\u001b[1mv1.30.0\u001b[5;64H\u001b(B\u001b[m\u001b[97;40m \u001b(B\u001b[m\u001b[38:5:73;40m \u001b(B\u001b[m\u001b[38:5:33;40m\u001b[1m<?>       \u001b(B\u001b[m\u001b[97;40m\u001b[2mHelp \u001b[5;87H\u001b(B\u001b[m\u001b[97;40m \u001b(B\u001b[m\u001b[38:5:73;40m \u001b(B\u001b[m\u001b[38:5:33;40m\u001b[1m<z>       \u001b(B\u001b[m\u001b[97;40m\u001b[2mSanitize \u001b(B\u001b[m\u001b[40m     \u001b(B\u001b[m\u001b[97;40m \u001b(B\u001b[m\u001b[40m                      \u001b(B\u001b[m\u001b[97;40m    \u001b(B\u001b[m\u001b[40m     \u001b[5;215H\u001b(B\u001b[m\u001b[38:5:214;40m\u001b[1m|____|__ \\ /____//____  >\u001b[6;2H\u001b(B\u001b[m\u001b[38:5:214;40mCPU:\u001b[6;10H\u001b(B\u001b[m\u001b[38:5:73;40m \u001b(B\u001b[m\u001b[38:5:202;40m\u001b[1mn/a\u001b[6;64H\u001b(B\u001b[m\u001b[97;40m \u001b(B\u001b[m\u001b[38:5:73;40m \u001b(B\u001b[m\u001b[38:5:33;40m\u001b[1m<shift-j> \u001b(B\u001b[m\u001b[97;40m\u001b[2mJump Owner \u001b(B\u001b[m\u001b[97;40m \u001b(B\u001b[m\u001b[38:5:73;40m \u001b(B\u001b[m\u001b[38:5:33;40m\u001b[1m<s>       \u001b(B\u001b[m\u001b[97;40m\u001b[2mShell \u001b(B\u001b[m\u001b[40m        \u001b(B\u001b[m\u001b[97;40m \u001b(B\u001b[m\u001b[40m                      \u001b(B\u001b[m\u001b[97;40m    \u001b(B\u001b[m\u001b[40m     \u001b[6;215H\u001b(B\u001b[m\u001b[38:5:214;40m\u001b[1m        \\/            \\/ \u001b[7;2H\u001b(B\u001b[m\u001b[38:5:214;40mMEM:\u001b[7;10H\u001b(B\u001b[m\u001b[38:5:73;40m \u001b(B\u001b[m\u001b[38:5:202;40m\u001b[1mn/a\u001b[7;97H\u001b(B\u001b[m\u001b[40m                                                \u001b[8;1H\u001b(B\u001b[m\u001b[38:5:117;40m\u001b[1m┌──────────────────────────────────────────────────────────────────────────────────────────────────────────────\u001b(B\u001b[m\u001b[96;40m\u001b[1m Pods(\u001b(B\u001b[m\u001b[95;40m\u001b[1mdefault\u001b(B\u001b[m\u001b[96;40m)[\u001b(B\u001b[m\u001b[38:5:230;40m\u001b[1m3\u001b(B\u001b[m\u001b[96;40m] \u001b(B\u001b[m\u001b[38:5:117;40m\u001b[1m──────────────────────────────────────────────────────────────────────────────────────────────────────────────┐\u001b[9;1H│\u001b[9;3H\u001b(B\u001b[m\u001b[97;40mNAME\u001b(B\u001b[m\u001b[96;40m\u001b[1m↑\u001b[9;32H\u001b(B\u001b[m\u001b[38:5:73;40m \u001b(B\u001b[m\u001b[97;40mPF\u001b[9;55H\u001b(B\u001b[m\u001b[38:5:73;40m \u001b(B\u001b[m\u001b[97;40mREADY\u001b[9;81H\u001b(B\u001b[m\u001b[38:5:73;40m \u001b(B\u001b[m\u001b[97;40mSTATUS\u001b[9;110H\u001b(B\u001b[m\u001b[38:5:73;40m \u001b[9;131H\u001b(B\u001b[m\u001b[97;40mRESTARTS\u001b(B\u001b[m\u001b[38:5:73;40m \u001b(B\u001b[m\u001b[97;40mIP\u001b[9;172H\u001b(B\u001b[m\u001b[38:5:73;40m \u001b(B\u001b[m\u001b[97;40mNODE\u001b[9;212H\u001b(B\u001b[m\u001b[38:5:73;40m \u001b(B\u001b[m\u001b[97;40mAGE\u001b[9;240H\u001b(B\u001b[m\u001b[38:5:117;40m\u001b[1m│\u001b[10;1H│\u001b[10;3H\u001b(B\u001b[m\u001b[30;48:5:117m\u001b[1mcaddy                         ●                      1/1                       Running                                                 0 10.244.0.11                      kind-control-plane                      12h                       \u001b[10;240H\u001b(B\u001b[m\u001b[38:5:117;40m\u001b[1m│\u001b[11;1H│\u001b[11;3H\u001b(B\u001b[m\u001b[38:5:117;40miperf3    \u001b[11;32H\u001b(B\u001b[m\u001b[38:5:73;40m \u001b(B\u001b[m\u001b[38:5:117;40m●\u001b[11;55H\u001b(B\u001b[m\u001b[38:5:73;40m \u001b(B\u001b[m\u001b[38:5:117;40m1/1  \u001b[11;81H\u001b(B\u001b[m\u001b[38:5:73;40m \u001b(B\u001b[m\u001b[38:5:117;40mRunning \u001b[11;110H\u001b(B\u001b[m\u001b[38:5:73;40m \u001b[11;113H\u001b(B\u001b[m\u001b[40m                \u001b[11;138H\u001b(B\u001b[m\u001b[38:5:117;40m0\u001b(B\u001b[m\u001b[38:5:73;40m \u001b(B\u001b[m\u001b[38:5:117;40m10.244.0.10 \u001b[11;172H\u001b(B\u001b[m\u001b[38:5:73;40m \u001b(B\u001b[m\u001b[38:5:117;40mkind-control-plane \u001b[11;212H\u001b(B\u001b[m\u001b[38:5:73;40m \u001b(B\u001b[m\u001b[38:5:117;40m12h  \u001b[11;240H\u001b(B\u001b[m\u001b[38:5:117;40m\u001b[1m│\u001b[12;1H│\u001b[12;3H\u001b(B\u001b[m\u001b[38:5:117;40mtailscale \u001b[12;32H\u001b(B\u001b[m\u001b[38:5:73;40m \u001b(B\u001b[m\u001b[38:5:117;40m●\u001b[12;55H\u001b(B\u001b[m\u001b[38:5:73;40m \u001b(B\u001b[m\u001b[38:5:117;40m1/1  \u001b[12;81H\u001b(B\u001b[m\u001b[38:5:73;40m \u001b(B\u001b[m\u001b[38:5:117;40mRunning \u001b[12;110H\u001b(B\u001b[m\u001b[38:5:73;40m \u001b[12;138H\u001b(B\u001b[m\u001b[38:5:117;40m0\u001b(B\u001b[m\u001b[38:5:73;40m \u001b(B\u001b[m\u001b[38:5:117;40m10.244.0.14 \u001b[12;172H\u001b(B\u001b[m\u001b[38:5:73;40m \u001b(B\u001b[m\u001b[38:5:117;40mkind-control-plane \u001b[12;212H\u001b(B\u001b[m\u001b[38:5:73;40m \u001b(B\u001b[m\u001b[38:5:117;40m4m5s \u001b[12;240H\u001b(B\u001b[m\u001b[38:5:117;40m\u001b[1m│\u001b[13;1H│\u001b[13;240H│\u001b[14;1H│\u001b[14;240H│\u001b[15;1H│\u001b[15;240H│\u001b[16;1H│\u001b[16;240H│\u001b[17;1H│\u001b[17;240H│\u001b[18;1H│\u001b[18;240H│\u001b[19;1H│\u001b[19;240H│\u001b[20;1H│\u001b[20;240H│\u001b[21;1H│\u001b[21;240H│\u001b[22;1H│\u001b[22;240H│\u001b[23;1H│\u001b[23;240H│\u001b[24;1H│\u001b[24;240H│\u001b[25;1H│\u001b[25;240H│\u001b[26;1H│\u001b[26;240H│\u001b[27;1H│\u001b[27;240H│\u001b[28;1H│\u001b[28;240H│\u001b[29;1H│\u001b[29;240H│\u001b[30;1H│\u001b[30;240H│\u001b[31;1H│\u001b[31;240H│\u001b[32;1H│\u001b[32;240H│\u001b[33;1H│\u001b[33;240H│\u001b[34;1H│\u001b[34;240H│\u001b[35;1H│\u001b[35;240H│\u001b[36;1H│\u001b[36;240H│\u001b[37;1H│\u001b[37;240H│\u001b[38;1H│\u001b[38;240H│\u001b[39;1H│\u001b[39;240H│\u001b[40;1H│\u001b[40;240H│\u001b[41;1H│\u001b[41;240H│\u001b[42;1H│\u001b[42;240H│\u001b[43;1H│\u001b[43;240H│\u001b[44;1H│\u001b[44;240H│\u001b[45;1H│\u001b[45;240H│\u001b[46;1H│\u001b[46;240H│\u001b[47;1H│\u001b[47;240H│\u001b[48;1H│\u001b[48;240H│\u001b[49;1H│\u001b[49;240H│\u001b[50;1H│\u001b[50;240H│\u001b[51;1H│\u001b[51;240H│\u001b[52;1H└──────────────────────────────────────────────────────────────────────────────────────────────────────────────────────────────────────────────────────────────────────────────────────────────────────────────────────────────────────────────┘\u001b[53;2H\u001b(B\u001b[m\u001b[30;48:5:214m\u001b[1m <pod> \u001b(B\u001b[m\u001b[97;40m \u001b[?25l\u001b[?25l\u001b[10;3H\u001b(B\u001b[m\u001b[38:5:117;40mcaddy     \u001b(B\u001b[m\u001b[40m                   \u001b(B\u001b[m\u001b[38:5:73;40m \u001b(B\u001b[m\u001b[38:5:117;40m●\u001b(B\u001b[m\u001b[40m                     \u001b(B\u001b[m\u001b[38:5:73;40m \u001b(B\u001b[m\u001b[38:5:117;40m1/1  \u001b(B\u001b[m\u001b[40m                    \u001b(B\u001b[m\u001b[38:5:73;40m \u001b(B\u001b[m\u001b[38:5:117;40mRunning \u001b(B\u001b[m\u001b[40m                    \u001b(B\u001b[m\u001b[38:5:73;40m \u001b(B\u001b[m\u001b[40m                           \u001b(B\u001b[m\u001b[38:5:117;40m0\u001b(B\u001b[m\u001b[38:5:73;40m \u001b(B\u001b[m\u001b[38:5:117;40m10.244.0.11 \u001b(B\u001b[m\u001b[40m                    \u001b(B\u001b[m\u001b[38:5:73;40m \u001b(B\u001b[m\u001b[38:5:117;40mkind-control-plane \u001b(B\u001b[m\u001b[40m                    \u001b(B\u001b[m\u001b[38:5:73;40m \u001b(B\u001b[m\u001b[38:5:117;40m12h  \u001b(B\u001b[m\u001b[40m                     \u001b[11;3H\u001b(B\u001b[m\u001b[30;48:5:117m\u001b[1miperf3                        ●                      1/1                       Running                                                 0 10.244.0.10                      kind-control-plane                      12h                       \u001b[?25l\u001b[?25l\u001b[11;3H\u001b(B\u001b[m\u001b[38:5:117;40miperf3    \u001b(B\u001b[m\u001b[40m                   \u001b(B\u001b[m\u001b[38:5:73;40m \u001b(B\u001b[m\u001b[38:5:117;40m●\u001b(B\u001b[m\u001b[40m                     \u001b(B\u001b[m\u001b[38:5:73;40m \u001b(B\u001b[m\u001b[38:5:117;40m1/1  \u001b(B\u001b[m\u001b[40m                    \u001b(B\u001b[m\u001b[38:5:73;40m \u001b(B\u001b[m\u001b[38:5:117;40mRunning \u001b(B\u001b[m\u001b[40m                    \u001b(B\u001b[m\u001b[38:5:73;40m \u001b(B\u001b[m\u001b[40m                           \u001b(B\u001b[m\u001b[38:5:117;40m0\u001b(B\u001b[m\u001b[38:5:73;40m \u001b(B\u001b[m\u001b[38:5:117;40m10.244.0.10 \u001b(B\u001b[m\u001b[40m                    \u001b(B\u001b[m\u001b[38:5:73;40m \u001b(B\u001b[m\u001b[38:5:117;40mkind-control-plane \u001b(B\u001b[m\u001b[40m                    \u001b(B\u001b[m\u001b[38:5:73;40m \u001b(B\u001b[m\u001b[38:5:117;40m12h  \u001b(B\u001b[m\u001b[40m                     \u001b[12;3H\u001b(B\u001b[m\u001b[30;48:5:117m\u001b[1mtailscale                     ●                      1/1                       Running                                                 0 10.244.0.14                      kind-control-plane                      4m5s                      \u001b[?25l\u001b[?25l\u001b[12;215H7\u001b[?25l\u001b[?25l\u001b[1;52H\u001b(B\u001b[m\u001b[38:5:33;40m\u001b[1m<a>       \u001b(B\u001b[m\u001b[97;40m\u001b[2mAttach \u001b(B\u001b[m\u001b[40m       \u001b(B\u001b[m\u001b[97;40m \u001b(B\u001b[m\u001b[38:5:73;40m \u001b(B\u001b[m\u001b[38:5:33;40m\u001b[1m<f> \u001b(B\u001b[m\u001b[97;40m\u001b[2mShow PortForward \u001b(B\u001b[m\u001b[97;40m  \u001b(B\u001b[m\u001b[40m   \u001b[1;113H                \u001b[1;136H    \u001b[2;52H\u001b(B\u001b[m\u001b[38:5:33;40m\u001b[1m<?>       \u001b(B\u001b[m\u001b[97;40m\u001b[2mHelp \u001b(B\u001b[m\u001b[40m         \u001b(B\u001b[m\u001b[97;40m \u001b(B\u001b[m\u001b[40m      \u001b[2;87H            \u001b(B\u001b[m\u001b[97;40m  \u001b(B\u001b[m\u001b[40m   \u001b[2;113H                           \u001b[3;51H\u001b(B\u001b[m\u001b[38:5:73;40m \u001b(B\u001b[m\u001b[38:5:33;40m\u001b[1m<l>       \u001b(B\u001b[m\u001b[97;40m\u001b[2mLogs \u001b(B\u001b[m\u001b[40m         \u001b(B\u001b[m\u001b[97;40m \u001b(B\u001b[m\u001b[40m        \u001b[3;87H            \u001b(B\u001b[m\u001b[97;40m  \u001b(B\u001b[m\u001b[40m                           \u001b[3;136H    \u001b[4;51H\u001b(B\u001b[m\u001b[38:5:73;40m \u001b(B\u001b[m\u001b[38:5:33;40m\u001b[1m<p>       \u001b(B\u001b[m\u001b[97;40m\u001b[2mLogs Previous \u001b(B\u001b[m\u001b[97;40m \u001b(B\u001b[m\u001b[40m    \u001b[4;87H            \u001b(B\u001b[m\u001b[97;40m  \u001b(B\u001b[m\u001b[40m           \u001b[4;113H           \u001b[4;136H    \u001b[5;51H\u001b(B\u001b[m\u001b[38:5:73;40m \u001b(B\u001b[m\u001b[38:5:33;40m\u001b[1m<shift-f> \u001b(B\u001b[m\u001b[97;40m\u001b[2mPortForward \u001b(B\u001b[m\u001b[40m  \u001b(B\u001b[m\u001b[97;40m \u001b(B\u001b[m\u001b[40m    \u001b[5;87H            \u001b(B\u001b[m\u001b[97;40m  \u001b(B\u001b[m\u001b[40m       \u001b[5;113H \u001b[5;136H    \u001b[6;51H\u001b(B\u001b[m\u001b[38:5:73;40m \u001b(B\u001b[m\u001b[38:5:33;40m\u001b[1m<s>       \u001b(B\u001b[m\u001b[97;40m\u001b[2mShell \u001b(B\u001b[m\u001b[40m        \u001b(B\u001b[m\u001b[97;40m \u001b(B\u001b[m\u001b[40m                      \u001b(B\u001b[m\u001b[97;40m  \u001b(B\u001b[m\u001b[40m    \u001b[6;113H \u001b[6;136H    \u001b[8;112H\u001b(B\u001b[m\u001b[38:5:117;40m\u001b[1m──────────────────\u001b[9;3H\u001b(B\u001b[m\u001b[40m     \u001b[9;32H   \u001b[9;55H      \u001b[9;81H       \u001b[9;110H \u001b[9;131H           \u001b[9;172H     \u001b[9;212H    \u001b[10;3H          \u001b[10;32H  \u001b[10;55H      \u001b[10;81H         \u001b[10;110H \u001b[10;138H              \u001b[10;172H                    \u001b[10;212H      \u001b[11;3H          \u001b[11;32H  \u001b[11;55H      \u001b[11;81H         \u001b[11;110H \u001b[11;138H              \u001b[11;172H                    \u001b[11;212H      \u001b[12;3H                                                                                                                                                                                                                                            \u001b[53;2H\u001b(B\u001b[m\u001b[30;106m\u001b[1m <pod> \u001b[53;10H\u001b(B\u001b[m\u001b[30;48:5:214m\u001b[1m <containers> \u001b(B\u001b[m\u001b[97;40m \u001b[?25l\u001b[?25l\u001b[8;104H\u001b(B\u001b[m\u001b[96;40m\u001b[1m Containers(\u001b(B\u001b[m\u001b[95;40m\u001b[1mdefault/tailscale\u001b(B\u001b[m\u001b[96;40m)[\u001b(B\u001b[m\u001b[38:5:230;40m\u001b[1m1\u001b(B\u001b[m\u001b[96;40m] \u001b[9;3H\u001b(B\u001b[m\u001b[97;40mNAME\u001b(B\u001b[m\u001b[96;40m\u001b[1m↑\u001b[9;22H\u001b(B\u001b[m\u001b[38:5:73;40m \u001b(B\u001b[m\u001b[97;40mPF\u001b[9;34H\u001b(B\u001b[m\u001b[38:5:73;40m \u001b(B\u001b[m\u001b[97;40mIMAGE\u001b[9;79H\u001b(B\u001b[m\u001b[38:5:73;40m \u001b(B\u001b[m\u001b[97;40mREADY\u001b[9;94H\u001b(B\u001b[m\u001b[38:5:73;40m \u001b(B\u001b[m\u001b[97;40mSTATE\u001b[9;112H\u001b(B\u001b[m\u001b[38:5:73;40m \u001b(B\u001b[m\u001b[97;40mINIT\u001b[9;129H\u001b(B\u001b[m\u001b[38:5:73;40m \u001b[9;140H\u001b(B\u001b[m\u001b[97;40mRESTARTS\u001b(B\u001b[m\u001b[38:5:73;40m \u001b(B\u001b[m\u001b[97;40mPROBES(L:R)\u001b[9;170H\u001b(B\u001b[m\u001b[38:5:73;40m \u001b[9;181H\u001b(B\u001b[m\u001b[97;40mCPU/R:L\u001b(B\u001b[m\u001b[38:5:73;40m \u001b[9;199H\u001b(B\u001b[m\u001b[97;40mMEM/R:L\u001b(B\u001b[m\u001b[38:5:73;40m \u001b(B\u001b[m\u001b[97;40mPORTS\u001b[9;222H\u001b(B\u001b[m\u001b[38:5:73;40m \u001b(B\u001b[m\u001b[97;40mAGE\u001b[10;3H\u001b(B\u001b[m\u001b[30;48:5:33m\u001b[1mtailscale           ●           ghcr.io/tailscale/tailscale:latest           true           Running           false                             0 off:off                             0:0               0:0                 4m7s            \u001b[?25l\u001b[?25l\u001b[10;3H\u001b(B\u001b[m\u001b[30;48:5:117m\u001b[1mtailscale           ●           ghcr.io/tailscale/tailscale:latest           true           Running           false                             0 off:off                             0:0               0:0                 4m8s            \u001b[?25l\u001b[?25l\u001b[?25l\u001b[?12l\u001b[?25h\u001b(B\u001b[m\u001b[H\u001b[2J\u001b[?1049l\u001b[23;0;0t\u001b[?1l\u001b>\u001b[?1000l\u001b[?1002l\u001b[?1003l\u001b[?1006l\u001b[?2004l\u001b[H\u001b[2J\u001b[42;30;1m<<K9s-Shell>> Pod: default/tailscale | Container: tailscale \n",
      "/ # \u001b[J2m/ # \u001b[6nip a\n",
      "1: lo: <LOOPBACK,UP,LOWER_UP> mtu 65536 qdisc noqueue state UNKNOWN group default qlen 1000\n",
      "    link/loopback 00:00:00:00:00:00 brd 00:00:00:00:00:00\n",
      "    inet 127.0.0.1/8 scope host lo\n",
      "       valid_lft forever preferred_lft forever\n",
      "    inet6 ::1/128 scope host \n",
      "       valid_lft forever preferred_lft forever\n",
      "2: eth0@if14: <BROADCAST,MULTICAST,UP,LOWER_UP> mtu 1500 qdisc noqueue state UP group default \n",
      "    link/ether f6:04:cf:0b:89:20 brd ff:ff:ff:ff:ff:ff link-netnsid 0\n",
      "    inet 10.244.0.14/24 brd 10.244.0.255 scope global eth0\n",
      "       valid_lft forever preferred_lft forever\n",
      "    inet6 fe80::f404:cfff:fe0b:8920/64 scope link \n",
      "       valid_lft forever preferred_lft forever\n",
      "/ # \u001b[6nwget localhost:89\u001b[\u001b[J\u001b[J0\n",
      "Connecting to localhost:80 ([::1]:80)\n",
      "wget: can't connect to remote host: Connection refused\n",
      "/ # \u001b[6nss -utpln\n",
      "Netid                State                 Recv-Q                Send-Q                                Local Address:Port                                  Peer Address:Port                Process                                             \n",
      "udp                  UNCONN                0                     0                                           0.0.0.0:54418                                      0.0.0.0:*                    users:((\"tailscaled\",pid=17,fd=10))                \n",
      "udp                  UNCONN                0                     0                                              [::]:44652                                         [::]:*                    users:((\"tailscaled\",pid=17,fd=12))                \n",
      "tcp                  LISTEN                0                     128                                         0.0.0.0:47405                                      0.0.0.0:*                    users:((\"tailscaled\",pid=17,fd=21))                \n",
      "/ # \u001b[6nwget caddy:80\n",
      "wget: bad address 'caddy:80'\n",
      "/ # \u001b[6nwget ipr\u001b[\u001b[Jerf3\n",
      "wget: bad address 'iperf3'\n",
      "/ # cat /etc/host\u001b[J\n",
      "hostname  hosts\n",
      "/ # cat /etc/host\u001b[J\n",
      "hostname  hosts\n",
      "/ # cat /etc/hosts \u001b[J\n",
      "# Kubernetes-managed hosts file.\n",
      "127.0.0.1\tlocalhost\n",
      "::1\tlocalhost ip6-localhost ip6-loopback\n",
      "fe00::0\tip6-localnet\n",
      "fe00::0\tip6-mcastprefix\n",
      "fe00::1\tip6-allnodes\n",
      "fe00::2\tip6-allrouters\n",
      "10.244.0.14\ttailscale\n",
      "/ # \u001b[6n\n",
      "\u001b[K\u001b]133;A\u001b\\\u001b[?2004h\u001b]0;/home/griffin/git/griffinht.com/notebooks/tailscale_all\u0007\u001b[30m\u001b(B\u001b[m\u001b[32m◠◡◠◡◠◡◠◡◠◡◠◡◠◡◠◡◠◡◠◡◠◡◠◡◠◡◠◡◠◡◠◡◠◡◠◡◠◡◠◡◠◡◠◡◠◡◠◡◠◡◠◡◠◡◠◡◠◡◠◡◠◡◠◡◠◡◠◡◠◡◠◡◠◡◠◡◠◡◠◡◠◡◠◡◠◡◠◡◠◡◠◡◠◡◠◡◠◡◠◡◠◡◠◡◠◡◠◡◠◡◠◡◠◡◠◡◠◡◠◡◠◡◠◡◠◡◠◡◠◡◠◡◠◡◠◡◠◡◠◡◠◡◠◡◠◡◠◡◠◡◠◡◠◡◠◡◠◡◠◡◠◡◠◡◠◡◠◡◠◡◠◡◠◡◠◡◠◡◠◡◠◡◠◡◠◡◠◡◠◡◠◡◠◡◠◡◠◡◠◡◠◡◠◡◠◡◠◡◠◡◠◡◠◡◠◡◠◡◠◡◠◡◠◡◠◡◠◡◠◡◠◡◠◡◠◡◠◡◠◡\u001b[K\u001b[m\u001b[38:5:73;40m \u001b(B\u001b[m\u001b[38:5:33;40m\u001b[1m<f> \u001b(B\u001b[m\u001b[97;40m\u001b[2mShow PortForward \u001b(B\u001b[m\u001b[97;40m  \u001b(B\u001b[m\u001b[40m                                                                                                                  \u001b(B\u001b[m\u001b[38:5:214;40m\u001b[1m ____  __.________       \u001b(B\u001b[m\u001b[40m \u001b[2;1H \u001b(B\u001b[m\u001b[38:5:214;40mCluster:\u001b(B\u001b[m\u001b[38:5:73;40m \u001b(B\u001b[m\u001b[97;40m\u001b[1mkind-kind\u001b(B\u001b[m\u001b[40m                               \u001b(B\u001b[m\u001b[38:5:73;40m \u001b(B\u001b[m\u001b[38:5:33;40m\u001b[1m<?>       \u001b(B\u001b[m\u001b[97;40m\u001b[2mHelp \u001b(B\u001b[m\u001b[40m         \u001b(B\u001b[m\u001b[97;40m \u001b(B\u001b[m\u001b[40m                      \u001b(B\u001b[m\u001b[97;40m  \u001b(B\u001b[m\u001b[40m                                                                                                                  \u001b(B\u001b[m\u001b[38:5:214;40m\u001b[1m|    |/ _/   __   \\______\u001b(B\u001b[m\u001b[40m \u001b[3;1H \u001b(B\u001b[m\u001b[38:5:214;40mUser:\u001b(B\u001b[m\u001b[40m   \u001b(B\u001b[m\u001b[38:5:73;40m \u001b(B\u001b[m\u001b[97;40m\u001b[1mkind-kind\u001b(B\u001b[m\u001b[40m                               \u001b(B\u001b[m\u001b[38:5:73;40m \u001b(B\u001b[m\u001b[38:5:33;40m\u001b[1m<l>       \u001b(B\u001b[m\u001b[97;40m\u001b[2mLogs \u001b(B\u001b[m\u001b[40m         \u001b(B\u001b[m\u001b[97;40m \u001b(B\u001b[m\u001b[40m                      \u001b(B\u001b[m\u001b[97;40m  \u001b(B\u001b[m\u001b[40m                                                                                                                  \u001b(B\u001b[m\u001b[38:5:214;40m\u001b[1m|      < \\____    /  ___/\u001b(B\u001b[m\u001b[40m \u001b[4;1H \u001b(B\u001b[m\u001b[38:5:214;40mK9s Rev:\u001b(B\u001b[m\u001b[38:5:73;40m \u001b(B\u001b[m\u001b[97;40m\u001b[1mv0.32.5\u001b(B\u001b[m\u001b[40m                                 \u001b(B\u001b[m\u001b[38:5:73;40m \u001b(B\u001b[m\u001b[38:5:33;40m\u001b[1m<p>       \u001b(B\u001b[m\u001b[97;40m\u001b[2mLogs Previous \u001b(B\u001b[m\u001b[97;40m \u001b(B\u001b[m\u001b[40m                      \u001b(B\u001b[m\u001b[97;40m  \u001b(B\u001b[m\u001b[40m                                                                                                                  \u001b(B\u001b[m\u001b[38:5:214;40m\u001b[1m|    |  \\   /    /\\___ \\ \u001b(B\u001b[m\u001b[40m \u001b[5;1H \u001b(B\u001b[m\u001b[38:5:214;40mK8s Rev:\u001b(B\u001b[m\u001b[38:5:73;40m \u001b(B\u001b[m\u001b[97;40m\u001b[1mv1.30.0\u001b(B\u001b[m\u001b[40m                                 \u001b(B\u001b[m\u001b[38:5:73;40m \u001b(B\u001b[m\u001b[38:5:33;40m\u001b[1m<shift-f> \u001b(B\u001b[m\u001b[97;40m\u001b[2mPortForward \u001b(B\u001b[m\u001b[40m  \u001b(B\u001b[m\u001b[97;40m \u001b(B\u001b[m\u001b[40m                      \u001b(B\u001b[m\u001b[97;40m  \u001b(B\u001b[m\u001b[40m                                                                                                                  \u001b(B\u001b[m\u001b[38:5:214;40m\u001b[1m|____|__ \\ /____//____  >\u001b(B\u001b[m\u001b[40m \u001b[6;1H \u001b(B\u001b[m\u001b[38:5:214;40mCPU:\u001b(B\u001b[m\u001b[40m    \u001b(B\u001b[m\u001b[38:5:73;40m \u001b(B\u001b[m\u001b[38:5:202;40m\u001b[1mn/a\u001b(B\u001b[m\u001b[40m                                     \u001b(B\u001b[m\u001b[38:5:73;40m \u001b(B\u001b[m\u001b[38:5:33;40m\u001b[1m<s>       \u001b(B\u001b[m\u001b[97;40m\u001b[2mShell \u001b(B\u001b[m\u001b[40m        \u001b(B\u001b[m\u001b[97;40m \u001b(B\u001b[m\u001b[40m                      \u001b(B\u001b[m\u001b[97;40m  \u001b(B\u001b[m\u001b[40m                                                                                                                  \u001b(B\u001b[m\u001b[38:5:214;40m\u001b[1m        \\/            \\/ \u001b(B\u001b[m\u001b[40m \u001b[7;1H \u001b(B\u001b[m\u001b[38:5:214;40mMEM:\u001b(B\u001b[m\u001b[40m    \u001b(B\u001b[m\u001b[38:5:73;40m \u001b(B\u001b[m\u001b[38:5:202;40m\u001b[1mn/a\u001b(B\u001b[m\u001b[40m                                                                                                                                                                                                                                   \u001b[8;1H\u001b(B\u001b[m\u001b[38:5:117;40m\u001b[1m┌──────────────────────────────────────────────────────────────────────────────────────────────────────\u001b(B\u001b[m\u001b[96;40m\u001b[1m Containers(\u001b(B\u001b[m\u001b[95;40m\u001b[1mdefault/tailscale\u001b(B\u001b[m\u001b[96;40m)[\u001b(B\u001b[m\u001b[38:5:230;40m\u001b[1m1\u001b(B\u001b[m\u001b[96;40m] \u001b(B\u001b[m\u001b[38:5:117;40m\u001b[1m──────────────────────────────────────────────────────────────────────────────────────────────────────┐\u001b[9;1H│\u001b(B\u001b[m\u001b[40m \u001b(B\u001b[m\u001b[97;40mNAME\u001b(B\u001b[m\u001b[96;40m\u001b[1m↑\u001b(B\u001b[m\u001b[40m              \u001b(B\u001b[m\u001b[38:5:73;40m \u001b(B\u001b[m\u001b[97;40mPF\u001b(B\u001b[m\u001b[40m         \u001b(B\u001b[m\u001b[38:5:73;40m \u001b(B\u001b[m\u001b[97;40mIMAGE\u001b(B\u001b[m\u001b[40m                                       \u001b(B\u001b[m\u001b[38:5:73;40m \u001b(B\u001b[m\u001b[97;40mREADY\u001b(B\u001b[m\u001b[40m         \u001b(B\u001b[m\u001b[38:5:73;40m \u001b(B\u001b[m\u001b[97;40mSTATE\u001b(B\u001b[m\u001b[40m            \u001b(B\u001b[m\u001b[38:5:73;40m \u001b(B\u001b[m\u001b[97;40mINIT\u001b(B\u001b[m\u001b[40m            \u001b(B\u001b[m\u001b[38:5:73;40m \u001b(B\u001b[m\u001b[40m          \u001b(B\u001b[m\u001b[97;40mRESTARTS\u001b(B\u001b[m\u001b[38:5:73;40m \u001b(B\u001b[m\u001b[97;40mPROBES(L:R)\u001b(B\u001b[m\u001b[40m          \u001b(B\u001b[m\u001b[38:5:73;40m \u001b(B\u001b[m\u001b[40m          \u001b(B\u001b[m\u001b[97;40mCPU/R:L\u001b(B\u001b[m\u001b[38:5:73;40m \u001b(B\u001b[m\u001b[40m          \u001b(B\u001b[m\u001b[97;40mMEM/R:L\u001b(B\u001b[m\u001b[38:5:73;40m \u001b(B\u001b[m\u001b[97;40mPORTS\u001b(B\u001b[m\u001b[40m          \u001b(B\u001b[m\u001b[38:5:73;40m \u001b(B\u001b[m\u001b[97;40mAGE\u001b(B\u001b[m\u001b[40m              \u001b(B\u001b[m\u001b[38:5:117;40m\u001b[1m│\u001b[10;1H│\u001b(B\u001b[m\u001b[40m \u001b(B\u001b[m\u001b[30;48:5:117m\u001b[1mtailscale           ●           ghcr.io/tailscale/tailscale:latest           true           Running           false                             0 off:off                             0:0               0:0                 4m8s            \u001b(B\u001b[m\u001b[40m \u001b(B\u001b[m\u001b[38:5:117;40m\u001b[1m│\u001b[11;1H│\u001b(B\u001b[m\u001b[40m                                                                                                                                                                                                                                              \u001b(B\u001b[m\u001b[38:5:117;40m\u001b[1m│\u001b[12;1H│\u001b(B\u001b[m\u001b[40m                                                                                                                                                                                                                                              \u001b(B\u001b[m\u001b[38:5:117;40m\u001b[1m│\u001b[13;1H│\u001b(B\u001b[m\u001b[40m                                                                                                                                                                                                                                              \u001b(B\u001b[m\u001b[38:5:117;40m\u001b[1m│\u001b[14;1H│\u001b(B\u001b[m\u001b[40m                                                                                                                                                                                                                                              \u001b(B\u001b[m\u001b[38:5:117;40m\u001b[1m│\u001b[15;1H│\u001b(B\u001b[m\u001b[40m                                                                                                                                                                                                                                              \u001b(B\u001b[m\u001b[38:5:117;40m\u001b[1m│\u001b[16;1H│\u001b(B\u001b[m\u001b[40m                                                                                                                                                                                                                                              \u001b(B\u001b[m\u001b[38:5:117;40m\u001b[1m│\u001b[17;1H│\u001b(B\u001b[m\u001b[40m                                                                                                                                                                                                                                              \u001b(B\u001b[m\u001b[38:5:117;40m\u001b[1m│\u001b[18;1H│\u001b(B\u001b[m\u001b[40m                                                                                                                                                                                                                                              \u001b(B\u001b[m\u001b[38:5:117;40m\u001b[1m│\u001b[19;1H│\u001b(B\u001b[m\u001b[40m                                                                                                                                                                                                                                              \u001b(B\u001b[m\u001b[38:5:117;40m\u001b[1m│\u001b[20;1H│\u001b(B\u001b[m\u001b[40m                                                                                                                                                                                                                                              \u001b(B\u001b[m\u001b[38:5:117;40m\u001b[1m│\u001b[21;1H│\u001b(B\u001b[m\u001b[40m                                                                                                                                                                                                                                              \u001b(B\u001b[m\u001b[38:5:117;40m\u001b[1m│\u001b[22;1H│\u001b(B\u001b[m\u001b[40m                                                                                                                                                                                                                                              \u001b(B\u001b[m\u001b[38:5:117;40m\u001b[1m│\u001b[23;1H│\u001b(B\u001b[m\u001b[40m                                                                                                                                                                                                                                              \u001b(B\u001b[m\u001b[38:5:117;40m\u001b[1m│\u001b[24;1H│\u001b(B\u001b[m\u001b[40m                                                                                                                                                                                                                                              \u001b(B\u001b[m\u001b[38:5:117;40m\u001b[1m│\u001b[25;1H│\u001b(B\u001b[m\u001b[40m                                                                                                                                                                                                                                              \u001b(B\u001b[m\u001b[38:5:117;40m\u001b[1m│\u001b[26;1H│\u001b(B\u001b[m\u001b[40m                                                                                                                                                                                                                                              \u001b(B\u001b[m\u001b[38:5:117;40m\u001b[1m│\u001b[27;1H│\u001b(B\u001b[m\u001b[40m                                                                                                                                                                                                                                              \u001b(B\u001b[m\u001b[38:5:117;40m\u001b[1m│\u001b[28;1H│\u001b(B\u001b[m\u001b[40m                                                                                                                                                                                                                                              \u001b(B\u001b[m\u001b[38:5:117;40m\u001b[1m│\u001b[29;1H│\u001b(B\u001b[m\u001b[40m                                                                                                                                                                                                                                              \u001b(B\u001b[m\u001b[38:5:117;40m\u001b[1m│\u001b[30;1H│\u001b(B\u001b[m\u001b[40m                                                                                                                                                                                                                                              \u001b(B\u001b[m\u001b[38:5:117;40m\u001b[1m│\u001b[31;1H│\u001b(B\u001b[m\u001b[40m                                                                                                                                                                                                                                              \u001b(B\u001b[m\u001b[38:5:117;40m\u001b[1m│\u001b[32;1H│\u001b(B\u001b[m\u001b[40m                                                                                                                                                                                                                                              \u001b(B\u001b[m\u001b[38:5:117;40m\u001b[1m│\u001b[33;1H│\u001b(B\u001b[m\u001b[40m                                                                                                                                                                                                                                              \u001b(B\u001b[m\u001b[38:5:117;40m\u001b[1m│\u001b[34;1H│\u001b(B\u001b[m\u001b[40m                                                                                                                                                                                                                                              \u001b(B\u001b[m\u001b[38:5:117;40m\u001b[1m│\u001b[35;1H│\u001b(B\u001b[m\u001b[40m                                                                                                                                                                                                                                              \u001b(B\u001b[m\u001b[38:5:117;40m\u001b[1m│\u001b[36;1H│\u001b(B\u001b[m\u001b[40m                                                                                                                                                                                                                                              \u001b(B\u001b[m\u001b[38:5:117;40m\u001b[1m│\u001b[37;1H│\u001b(B\u001b[m\u001b[40m                                                                                                                                                                                                                                              \u001b(B\u001b[m\u001b[38:5:117;40m\u001b[1m│\u001b[38;1H│\u001b(B\u001b[m\u001b[40m                                                                                                                                                                                                                                              \u001b(B\u001b[m\u001b[38:5:117;40m\u001b[1m│\u001b[39;1H│\u001b(B\u001b[m\u001b[40m                                                                                                                                                                                                                                              \u001b(B\u001b[m\u001b[38:5:117;40m\u001b[1m│\u001b[40;1H│\u001b(B\u001b[m\u001b[40m                                                                                                                                                                                                                                              \u001b(B\u001b[m\u001b[38:5:117;40m\u001b[1m│\u001b[41;1H│\u001b(B\u001b[m\u001b[40m                                                                                                                                                                                                                                              \u001b(B\u001b[m\u001b[38:5:117;40m\u001b[1m│\u001b[42;1H│\u001b(B\u001b[m\u001b[40m                                                                                                                                                                                                                                              \u001b(B\u001b[m\u001b[38:5:117;40m\u001b[1m│\u001b[43;1H│\u001b(B\u001b[m\u001b[40m                                                                                                                                                                                                                                              \u001b(B\u001b[m\u001b[38:5:117;40m\u001b[1m│\u001b[44;1H│\u001b(B\u001b[m\u001b[40m                                                                                                                                                                                                                                              \u001b(B\u001b[m\u001b[38:5:117;40m\u001b[1m│\u001b[45;1H│\u001b(B\u001b[m\u001b[40m                                                                                                                                                                                                                                              \u001b(B\u001b[m\u001b[38:5:117;40m\u001b[1m│\u001b[46;1H│\u001b(B\u001b[m\u001b[40m                                                                                                                                                                                                                                              \u001b(B\u001b[m\u001b[38:5:117;40m\u001b[1m│\u001b[47;1H│\u001b(B\u001b[m\u001b[40m                                                                                                                                                                                                                                              \u001b(B\u001b[m\u001b[38:5:117;40m\u001b[1m│\u001b[48;1H│\u001b(B\u001b[m\u001b[40m                                                                                                                                                                                                                                              \u001b(B\u001b[m\u001b[38:5:117;40m\u001b[1m│\u001b[49;1H│\u001b(B\u001b[m\u001b[40m                                                                                                                                                                                                                                              \u001b(B\u001b[m\u001b[38:5:117;40m\u001b[1m│\u001b[50;1H│\u001b(B\u001b[m\u001b[40m                                                                                                                                                                                                                                              \u001b(B\u001b[m\u001b[38:5:117;40m\u001b[1m│\u001b[51;1H│\u001b(B\u001b[m\u001b[40m                                                                                                                                                                                                                                              \u001b(B\u001b[m\u001b[38:5:117;40m\u001b[1m│\u001b[52;1H└──────────────────────────────────────────────────────────────────────────────────────────────────────────────────────────────────────────────────────────────────────────────────────────────────────────────────────────────────────────────┘\u001b[53;1H\u001b(B\u001b[m\u001b[40m \u001b(B\u001b[m\u001b[30;106m\u001b[1m <pod> \u001b(B\u001b[m\u001b[97;40m \u001b(B\u001b[m\u001b[30;48:5:214m\u001b[1m <containers> \u001b(B\u001b[m\u001b[97;40m \u001b(B\u001b[m\u001b[40m                                                                                                                                                                                                                        \u001b[54;1H                                                                                                                                                                                                                                                \u001b[?25l\u001b[?25l\u001b[9;128H\u001b(B\u001b[m\u001b[38:5:73;40m \u001b(B\u001b[m\u001b[40m \u001b[9;139H\u001b(B\u001b[m\u001b[97;40mRESTARTS\u001b(B\u001b[m\u001b[38:5:73;40m \u001b(B\u001b[m\u001b[97;40mPROBES(L:R)\u001b(B\u001b[m\u001b[40m \u001b[9;169H\u001b(B\u001b[m\u001b[38:5:73;40m \u001b(B\u001b[m\u001b[40m \u001b[9;180H\u001b(B\u001b[m\u001b[97;40mCPU/R:L\u001b(B\u001b[m\u001b[38:5:73;40m \u001b(B\u001b[m\u001b[40m \u001b[9;198H\u001b(B\u001b[m\u001b[97;40mMEM/R:L\u001b(B\u001b[m\u001b[38:5:73;40m \u001b(B\u001b[m\u001b[97;40mPORTS\u001b(B\u001b[m\u001b[40m \u001b[9;221H\u001b(B\u001b[m\u001b[38:5:73;40m \u001b(B\u001b[m\u001b[97;40mAGE\u001b(B\u001b[m\u001b[40m \u001b[10;146H\u001b(B\u001b[m\u001b[30;48:5:117m\u001b[1m0 of\u001b[10;151H:of\u001b[10;155H \u001b[10;184H0:0 \u001b[10;202H0:0 \u001b[10;222H4m34\u001b[?25l\u001b[?25l\u001b[?25l\u001b[?25l\u001b[?25l\u001b[?25l\u001b[?25l\u001b[?25l\u001b[10;225H5\u001b[?25l\u001b[?25l\u001b[?25l\u001b[?25l\u001b[8;1H\u001b(B\u001b[m\u001b[96;40m┌──────────────────────────────────────────────────────────────────────────────────────────────────────────────────────────────────────────────────────────────────────────────────────────────────────────────────────────────────────────────┐\u001b[9;1H│\u001b[9;3H\u001b(B\u001b[m\u001b[38:5:73;40m🐶\u001b[9;5H> \u001b(B\u001b[m\u001b[40m \u001b[9;22H   \u001b[9;34H      \u001b[9;79H      \u001b[9;94H      \u001b[9;112H     \u001b[9;128H \u001b[9;139H                    \u001b[9;169H \u001b[9;180H        \u001b[9;198H             \u001b[9;221H    \u001b[9;240H\u001b(B\u001b[m\u001b[96;40m│\u001b[10;1H└──────────────────────────────────────────────────────────────────────────────────────────────────────────────────────────────────────────────────────────────────────────────────────────────────────────────────────────────────────────────┘\u001b[11;1H\u001b(B\u001b[m\u001b[38:5:33;40m\u001b[1m┌──────────────────────────────────────────────────────────────────────────────────────────────────────\u001b(B\u001b[m\u001b[96;40m\u001b[1m Containers(\u001b(B\u001b[m\u001b[95;40m\u001b[1mdefault/tailscale\u001b(B\u001b[m\u001b[96;40m)[\u001b(B\u001b[m\u001b[38:5:230;40m\u001b[1m1\u001b(B\u001b[m\u001b[96;40m] \u001b(B\u001b[m\u001b[38:5:33;40m\u001b[1m──────────────────────────────────────────────────────────────────────────────────────────────────────┐\u001b[12;1H│\u001b[12;3H\u001b(B\u001b[m\u001b[97;40mNAME\u001b(B\u001b[m\u001b[96;40m\u001b[1m↑\u001b[12;22H\u001b(B\u001b[m\u001b[38:5:73;40m \u001b(B\u001b[m\u001b[97;40mPF\u001b[12;34H\u001b(B\u001b[m\u001b[38:5:73;40m \u001b(B\u001b[m\u001b[97;40mIMAGE\u001b[12;79H\u001b(B\u001b[m\u001b[38:5:73;40m \u001b(B\u001b[m\u001b[97;40mREADY\u001b[12;94H\u001b(B\u001b[m\u001b[38:5:73;40m \u001b(B\u001b[m\u001b[97;40mSTATE\u001b[12;112H\u001b(B\u001b[m\u001b[38:5:73;40m \u001b(B\u001b[m\u001b[97;40mINIT\u001b[12;128H\u001b(B\u001b[m\u001b[38:5:73;40m \u001b[12;139H\u001b(B\u001b[m\u001b[97;40mRESTARTS\u001b(B\u001b[m\u001b[38:5:73;40m \u001b(B\u001b[m\u001b[97;40mPROBES(L:R)\u001b[12;169H\u001b(B\u001b[m\u001b[38:5:73;40m \u001b[12;180H\u001b(B\u001b[m\u001b[97;40mCPU/R:L\u001b(B\u001b[m\u001b[38:5:73;40m \u001b[12;198H\u001b(B\u001b[m\u001b[97;40mMEM/R:L\u001b(B\u001b[m\u001b[38:5:73;40m \u001b(B\u001b[m\u001b[97;40mPORTS\u001b[12;221H\u001b(B\u001b[m\u001b[38:5:73;40m \u001b(B\u001b[m\u001b[97;40mAGE\u001b[12;240H\u001b(B\u001b[m\u001b[38:5:33;40m\u001b[1m│\u001b[13;1H│\u001b[13;3H\u001b(B\u001b[m\u001b[30;48:5:117m\u001b[1mtailscale           ●           ghcr.io/tailscale/tailscale:latest           true           Running           false                            0 off:off                             0:0               0:0                 4m35s            \u001b[13;240H\u001b(B\u001b[m\u001b[38:5:33;40m\u001b[1m│\u001b[14;1H│\u001b[14;240H│\u001b[15;1H│\u001b[15;240H│\u001b[16;1H│\u001b[16;240H│\u001b[17;1H│\u001b[17;240H│\u001b[18;1H│\u001b[18;240H│\u001b[19;1H│\u001b[19;240H│\u001b[20;1H│\u001b[20;240H│\u001b[21;1H│\u001b[21;240H│\u001b[22;1H│\u001b[22;240H│\u001b[23;1H│\u001b[23;240H│\u001b[24;1H│\u001b[24;240H│\u001b[25;1H│\u001b[25;240H│\u001b[26;1H│\u001b[26;240H│\u001b[27;1H│\u001b[27;240H│\u001b[28;1H│\u001b[28;240H│\u001b[29;1H│\u001b[29;240H│\u001b[30;1H│\u001b[30;240H│\u001b[31;1H│\u001b[31;240H│\u001b[32;1H│\u001b[32;240H│\u001b[33;1H│\u001b[33;240H│\u001b[34;1H│\u001b[34;240H│\u001b[35;1H│\u001b[35;240H│\u001b[36;1H│\u001b[36;240H│\u001b[37;1H│\u001b[37;240H│\u001b[38;1H│\u001b[38;240H│\u001b[39;1H│\u001b[39;240H│\u001b[40;1H│\u001b[40;240H│\u001b[41;1H│\u001b[41;240H│\u001b[42;1H│\u001b[42;240H│\u001b[43;1H│\u001b[43;240H│\u001b[44;1H│\u001b[44;240H│\u001b[45;1H│\u001b[45;240H│\u001b[46;1H│\u001b[46;240H│\u001b[47;1H│\u001b[47;240H│\u001b[48;1H│\u001b[48;240H│\u001b[49;1H│\u001b[49;240H│\u001b[50;1H│\u001b[50;240H│\u001b[51;1H│\u001b[51;240H│\u001b[52;1H└──────────────────────────────────────────────────────────────────────────────────────────────────────────────────────────────────────────────────────────────────────────────────────────────────────────────────────────────────────────────┘\u001b[?25l\u001b[?25l\u001b[9;7H\u001b(B\u001b[m\u001b[38:5:73;40m\u001b[1mq\u001b(B\u001b[m\u001b[38:5:33;40m!\u001b[?25l\u001b[?12l\u001b[?25h\u001b(B\u001b[m\u001b[H\u001b[2J\u001b[?1049l\u001b[23;0;0t\u001b[?1l\u001b>\u001b[?1000l\u001b[?1002l\u001b[?1003l\u001b[?1006l\u001b[?2004l\u001b[6 q\u001b[2m⏎\u001b(B\u001b[m                                                                                                                                                                                                                                               \n",
      "\u001b[4C0C\u001b[32m 07:51:55 "
     ]
    }
   ],
   "source": [
    "! asciinema play tailscale.cast"
   ]
  },
  {
   "cell_type": "code",
   "execution_count": 23,
   "metadata": {
    "vscode": {
     "languageId": "plaintext"
    }
   },
   "outputs": [
    {
     "name": "stdout",
     "output_type": "stream",
     "text": [
      "Overwriting service.yaml\n"
     ]
    }
   ],
   "source": [
    "%%writefile service.yaml\n",
    "apiVersion: v1\n",
    "kind: Service\n",
    "metadata:\n",
    "    name: caddy-service\n",
    "spec:\n",
    "    selector:\n",
    "        app: caddy\n",
    "    ports:\n",
    "      - protocol: TCP\n",
    "        port: 80\n",
    "---\n",
    "apiVersion: v1\n",
    "kind: Service\n",
    "metadata:\n",
    "    name: iperf-service\n",
    "spec:\n",
    "    selector:\n",
    "        app: iperf3\n",
    "    ports:\n",
    "      - protocol: TCP\n",
    "        port: 5201\n",
    "        # todo does iperf also need UDP?\n",
    "---\n"
   ]
  },
  {
   "cell_type": "markdown",
   "metadata": {
    "vscode": {
     "languageId": "plaintext"
    }
   },
   "source": [
    "Think this looks complex? Think again! Check out my lab on container-container networking in Docker Compose. I haven't created it yet but I want to!\n",
    "\n",
    "This medium article on [Mastering Kubernetes Pod-to-Pod Communication](https://medium.com/@extio/mastering-kubernetes-pod-to-pod-communication-a-comprehensive-guide-46832b30556b) was also great."
   ]
  },
  {
   "cell_type": "code",
   "execution_count": 24,
   "metadata": {
    "vscode": {
     "languageId": "plaintext"
    }
   },
   "outputs": [
    {
     "name": "stdout",
     "output_type": "stream",
     "text": [
      "service/caddy-service created\n",
      "service/iperf-service created\n"
     ]
    }
   ],
   "source": [
    "! kubectl apply -f service.yaml"
   ]
  },
  {
   "cell_type": "code",
   "execution_count": 26,
   "metadata": {
    "vscode": {
     "languageId": "plaintext"
    }
   },
   "outputs": [
    {
     "name": "stdout",
     "output_type": "stream",
     "text": [
      "Connecting to caddy-service:80 (10.96.43.142:80)\n",
      "wget: can't connect to remote host (10.96.43.142): Connection refused\n",
      "command terminated with exit code 1\n"
     ]
    }
   ],
   "source": [
    "! kubectl exec tailscale -- wget caddy-service:80"
   ]
  },
  {
   "cell_type": "code",
   "execution_count": null,
   "metadata": {
    "vscode": {
     "languageId": "plaintext"
    }
   },
   "outputs": [],
   "source": []
  }
 ],
 "metadata": {
  "kernelspec": {
   "display_name": "Python 3 (ipykernel)",
   "language": "/gnu/store/1w5v338qk5m8khcazwclprs3znqp6f7f-python-3.10.7/bin/python3",
   "name": "python3"
  },
  "language_info": {
   "codemirror_mode": {
    "name": "ipython",
    "version": 3
   },
   "file_extension": ".py",
   "mimetype": "text/x-python",
   "name": "python",
   "nbconvert_exporter": "python",
   "pygments_lexer": "ipython3",
   "version": "3.10.7"
  }
 },
 "nbformat": 4,
 "nbformat_minor": 2
}
